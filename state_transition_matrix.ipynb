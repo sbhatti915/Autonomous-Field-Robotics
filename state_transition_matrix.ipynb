{
 "cells": [
  {
   "cell_type": "markdown",
   "id": "e59825d1-ac46-4789-bd9f-a384f46085ae",
   "metadata": {},
   "source": [
    "# Sameer Bhatti\n",
    "\n",
    "Our goal in this assignment is to write a simulator that can randomly generate sequences of \"weathers\" from this state transition function."
   ]
  },
  {
   "cell_type": "code",
   "execution_count": 12,
   "id": "8df03229-2adb-4065-a61f-eea3a131c14b",
   "metadata": {},
   "outputs": [],
   "source": [
    "import numpy as np\n",
    "import random as rand\n",
    "from collections import Counter\n",
    "import matplotlib.pyplot as plt\n",
    "import scipy.linalg"
   ]
  },
  {
   "cell_type": "markdown",
   "id": "8d7e8408-6b1a-43f5-b715-500b012c6757",
   "metadata": {
    "jp-MarkdownHeadingCollapsed": true,
    "tags": []
   },
   "source": [
    "# Step Process\n",
    "1. Define States and transition matrix\n",
    "2. Randomly select the first state\n",
    "3. Create the Simulator to generate a sequence of weathers given the transition matrix\n",
    "4. Define the number of days\n",
    "5. Run the simulator\n",
    "6. Graph the results for some number of days against the stationary distribution"
   ]
  },
  {
   "cell_type": "markdown",
   "id": "901df61b-5530-4c20-8fa6-abf8f720d3a9",
   "metadata": {},
   "source": [
    "## Definitions\n",
    "\n",
    "We begin by defining the states and the transition matrix of the simulator. The states are abbreviated for 's' for sunny, 'c' for cloudy, and 'r' for rainy. The simulator is then initialized by a day that is randomly generated."
   ]
  },
  {
   "cell_type": "code",
   "execution_count": 13,
   "id": "26f81b54-40c7-4a4a-b942-cabdc2b60ccb",
   "metadata": {
    "tags": []
   },
   "outputs": [
    {
     "name": "stdout",
     "output_type": "stream",
     "text": [
      "r\n"
     ]
    }
   ],
   "source": [
    "# Define State\n",
    "state = ['s', 'c', 'r']\n",
    "\n",
    "# Define Transition Matrix\n",
    "mat = np.array([[.8, .2, 0.0],[.4, .4, .2],[.2, .6, .2]])\n",
    "\n",
    "# Randomly generate first state\n",
    "firstDay = rand.choice(state)\n",
    "print(firstDay)"
   ]
  },
  {
   "cell_type": "markdown",
   "id": "985395bc-db65-43c3-9894-5df071feb196",
   "metadata": {},
   "source": [
    "## Create simulator\n",
    "\n",
    "The Simulator takes an input of the number of days, the state of the first day that is randomly generated, the state matrix, and the transition matrix. The first day is inserted into a list to define the first day of the weather sequence. Using the function rand.choices, the state and the transition matrix are inputted where the weights for how the day is selected is determined by the previous day. Therefore, the index is used to select which list of weights are taken from the transition matrix depending on if the previous day was sunny, cloudy, or rainy. For example, if the previous day was sunny, the index would be 0 for the first row of the transition matrix. The weights would then be 0.8 for sunny, 0.2 for cloudy, and 0 for rainy. \n",
    "\n",
    "From the weather sequence, the number of each state is counted using the Counter function. Those values are stored in the list counts. The function then returns the weather sequence and the counts of each state."
   ]
  },
  {
   "cell_type": "code",
   "execution_count": 14,
   "id": "df95af4a-3ad2-4a9b-a30b-20ccadbf6dd1",
   "metadata": {
    "tags": []
   },
   "outputs": [],
   "source": [
    "\n",
    "def weatherSim(numDays, firstDay, state, transMat):\n",
    "    '''''''''''''''''''''''''''\n",
    "    input:\n",
    "        numDays: integer of number of days simulating\n",
    "        firstDay: State of the first day, either 's', 'c', or 'r'\n",
    "        state: List of states\n",
    "        transMat: numpy array of transition matrix\n",
    "    output:\n",
    "        counts: List of counts of each day outputted as[s,c,r]\n",
    "        weathers: Sequence of weathers\n",
    "    '''''''''''''''''''''''''''\n",
    "    # Define weather sequence\n",
    "    weathers = [firstDay]\n",
    "    \n",
    "    # Simulator\n",
    "    index = state.index(firstDay)\n",
    "    counts = []\n",
    "    \n",
    "    for i in range(numDays-1):\n",
    "        nextDay = rand.choices(state,weights=transMat[index],k=1)\n",
    "        weathers.append(nextDay[0])\n",
    "        index = state.index(nextDay[0])\n",
    "        \n",
    "    countsDict = Counter(weathers)\n",
    "    counts = [countsDict['s'],countsDict['c'],countsDict['r']]\n",
    "    return counts, weathers\n",
    "    "
   ]
  },
  {
   "cell_type": "markdown",
   "id": "92c39960-9469-4825-8f08-3ade4f0c7938",
   "metadata": {},
   "source": [
    "The getNorm function will take in the counts from the weatherSim function and output the normalized values of those counts."
   ]
  },
  {
   "cell_type": "code",
   "execution_count": 15,
   "id": "9c0daeee-518d-41d1-bf6c-73cfc4daf132",
   "metadata": {
    "tags": []
   },
   "outputs": [],
   "source": [
    "def getNorm(countsList):\n",
    "    '''''''''''''''''''''''''''\n",
    "    input:\n",
    "        countsList: List of the counts for sunny, cloudy, and rainy\n",
    "        \n",
    "    output:\n",
    "        norm: List of the counts normalized\n",
    "    '''''''''''''''''''''''''''\n",
    "    \n",
    "    norm = [float(i)/sum(countsList) for i in countsList]\n",
    "    return norm\n"
   ]
  },
  {
   "cell_type": "markdown",
   "id": "626efbf1-7960-49e0-bab7-368c15875451",
   "metadata": {},
   "source": [
    "## Run Simulator\n",
    "\n",
    "The simulator is now run by first defining the number of days. Using the first day that was previously generated and the state and transition matrices, the counts and weather sequence are found. The counts are normalized and printed below."
   ]
  },
  {
   "cell_type": "code",
   "execution_count": 16,
   "id": "2b2df62b-a7c9-49f9-94de-66320c424991",
   "metadata": {},
   "outputs": [
    {
     "name": "stdout",
     "output_type": "stream",
     "text": [
      "The weather counts are sunny: 964 cloudy: 429 rainy: 107\n",
      "The normalized probability of each weather are sunny: 0.6426666666666667 cloudy: 0.286 rainy: 0.07133333333333333\n"
     ]
    }
   ],
   "source": [
    "# Define number of days\n",
    "k = 1500\n",
    "\n",
    "# Run Simulator\n",
    "counts, weathers = weatherSim(k,firstDay,state,mat)\n",
    "norms = getNorm(counts)\n",
    "\n",
    "print('The weather counts are sunny: ' + str(counts[0]) + ' cloudy: ' + str(counts[1]) + ' rainy: ' + str(counts[2]))\n",
    "print('The normalized probability of each weather are sunny: ' + str(norms[0]) + ' cloudy: ' + str(norms[1]) + ' rainy: ' + str(norms[2]))"
   ]
  },
  {
   "cell_type": "markdown",
   "id": "acc6fc38-cefe-496c-a550-7aa5dcd6f476",
   "metadata": {
    "tags": []
   },
   "source": [
    "## Determining Stationary Distribution\n",
    "\n",
    "The stationary distribution is what the normalized probability should each converge to. To assess this visually, the number of days were initialized to a large number. The first state is determined by the random generation similarly as above. These are used with the weatherSim function to determine the weather sequence and counts. The weather sequence is then parsed to append an array for the normalized probability of each state for sunny, cloudy, and rainy after each day. For example, the first state could be rainy, giving a probability of 0 for sunny and cloudy after the first day and a probability of 1 after the first day. Then the 2nd day in the sequence could be cloudy making the probabilities 0 for sunny, 0.5 for cloudy, and 0.5 for rainy. This would continue for every day of the weather sequence (i.e. taking a result every transition).\n",
    "\n",
    "This method is much faster than solving for the normalized parts every iteration of the a day through the weather simulator. This piece was inspired by Jordan Gittleman."
   ]
  },
  {
   "cell_type": "code",
   "execution_count": 17,
   "id": "c999438a-8b52-41f9-a8e0-1126bee280eb",
   "metadata": {},
   "outputs": [],
   "source": [
    "# Define the number of days\n",
    "numDays = 10000"
   ]
  },
  {
   "cell_type": "code",
   "execution_count": 18,
   "id": "7bcea08b-e15a-4918-8cb6-50f4f1d3ec1a",
   "metadata": {
    "tags": []
   },
   "outputs": [
    {
     "name": "stdout",
     "output_type": "stream",
     "text": [
      "The start state is c\n"
     ]
    }
   ],
   "source": [
    "s = np.zeros(numDays)\n",
    "c = np.zeros(numDays)\n",
    "r = np.zeros(numDays)\n",
    "\n",
    "statFirstDay = rand.choice(state)\n",
    "print('The start state is ' + statFirstDay)\n",
    "\n",
    "weatherCounts, weatherSeq = weatherSim(numDays,statFirstDay,state,mat)\n",
    "\n",
    "for i in range(0,10000,1):\n",
    "    countsDict = Counter(weatherSeq[0:i])\n",
    "    counts = [countsDict['s'],countsDict['c'],countsDict['r']]\n",
    "    if len(countsDict) == 0:\n",
    "        s[i] = 0\n",
    "        c[i] = 0\n",
    "        r[i] = 0\n",
    "    else:\n",
    "        norms = getNorm(counts)\n",
    "        s[i] = norms[0]\n",
    "        c[i] = norms[1]\n",
    "        r[i] = norms[2]\n"
   ]
  },
  {
   "cell_type": "markdown",
   "id": "64efee32-bc2b-4aa0-8227-efdacdb7fa3b",
   "metadata": {},
   "source": [
    "The stationary distribution is defined below from the solutions provided analytically and plotted along with the state counts."
   ]
  },
  {
   "cell_type": "code",
   "execution_count": 19,
   "id": "48f30ab3-b761-4e84-8d24-e1b98a00db40",
   "metadata": {},
   "outputs": [],
   "source": [
    "stationary = [9/14, 2/7, 1/14] # Problem 2.4 https://github.com/pptacher/probabilistic_robotics/blob/master/ch2_recursive_state_estimation/ch2_recursive_state_estimation.pdf"
   ]
  },
  {
   "cell_type": "code",
   "execution_count": 20,
   "id": "892263c9-aaeb-497b-84e5-b65e3a2c1a25",
   "metadata": {},
   "outputs": [
    {
     "data": {
      "image/png": "[encoded data removed]",
      "text/plain": [
       "<Figure size 432x288 with 1 Axes>"
      ]
     },
     "metadata": {
      "needs_background": "light"
     },
     "output_type": "display_data"
    }
   ],
   "source": [
    "plt.axis([0, numDays, 0, 1])\n",
    "plt.plot(s)\n",
    "plt.plot(c)\n",
    "plt.plot(r)\n",
    "for i in range(3):\n",
    "    plt.axhline(stationary[i])\n",
    "plt.legend(['sunny','cloudy','rainy'])\n",
    "plt.title('Probabilities of Each State')\n",
    "plt.xlabel('Day Number') \n",
    "plt.ylabel('Probability')\n",
    "plt.show()"
   ]
  },
  {
   "cell_type": "markdown",
   "id": "566b7d24-742e-4411-8cd2-7d65f6b7b964",
   "metadata": {
    "tags": []
   },
   "source": [
    "### Results\n",
    "\n",
    "The normalized probabilities were all graphed for the number of days. Using the stationary distribution provided from the answer key, it can be seen that the probabilties are approached at a little less than 2000 days, more closely 1500 days. "
   ]
  },
  {
   "cell_type": "markdown",
   "id": "5392e90b-0535-4679-a629-14acfd9bd916",
   "metadata": {
    "tags": []
   },
   "source": [
    "## Calculate Stationary Distribution\n",
    "\n",
    "The stationary distribution was calculated by finding the eigenvalues and eigenvectors of the transpose of the transition matrix. Using the left eigenvectors of that 3x3 matrix, we can normalize the eigenvectors to produce the stationary distribution."
   ]
  },
  {
   "cell_type": "code",
   "execution_count": 21,
   "id": "5e1dec26-1f9e-4f09-9765-d5845f197def",
   "metadata": {},
   "outputs": [
    {
     "name": "stdout",
     "output_type": "stream",
     "text": [
      "[0.6428571428571429, 0.2857142857142857, 0.0714285714285714]\n",
      "[0.6428571428571429, 0.2857142857142857, 0.07142857142857142]\n"
     ]
    }
   ],
   "source": [
    "vals, vec = scipy.linalg.eig(np.transpose(mat))\n",
    "leftVec = vec[:,0]\n",
    "\n",
    "statDistrib = getNorm(leftVec)\n",
    "print(statDistrib)\n",
    "print(stationary) # Defined above"
   ]
  },
  {
   "cell_type": "markdown",
   "id": "526b3f17-8dbc-4c1f-8189-07805b7f20dd",
   "metadata": {},
   "source": [
    "We show that the state matrix is diagnolizable by taking the real parts of the eigenvalues and creating a 3x3 matrix from it where the eigenvalues are along the diagonal. We then find the inverse of the eigenvectors and take the dot product of the eigenvectors, eigenvalues, and inverse of the eigenvalues. We can see that the results are the same as the transition matrix."
   ]
  },
  {
   "cell_type": "code",
   "execution_count": 22,
   "id": "bfd442e2-2eff-4ecd-86ca-0a0950f545f8",
   "metadata": {},
   "outputs": [
    {
     "name": "stdout",
     "output_type": "stream",
     "text": [
      "[[8.00000000e-01 4.00000000e-01 2.00000000e-01]\n",
      " [2.00000000e-01 4.00000000e-01 6.00000000e-01]\n",
      " [3.66317442e-17 2.00000000e-01 2.00000000e-01]]\n",
      "[[0.8 0.2 0. ]\n",
      " [0.4 0.4 0.2]\n",
      " [0.2 0.6 0.2]]\n"
     ]
    }
   ],
   "source": [
    "# Diagnolizable\n",
    "eigVals = np.zeros((3,3))\n",
    "for i in range(len(eigVals)):\n",
    "    eigVals[i,i] = vals[i].real\n",
    "\n",
    "vecInv = scipy.linalg.inv(vec)\n",
    "\n",
    "x = vec.dot(eigVals.dot(vecInv))\n",
    "print(x)\n",
    "print(mat)"
   ]
  }
 ],
 "metadata": {
  "kernelspec": {
   "display_name": "Python 3 (ipykernel)",
   "language": "python",
   "name": "python3"
  },
  "language_info": {
   "codemirror_mode": {
    "name": "ipython",
    "version": 3
   },
   "file_extension": ".py",
   "mimetype": "text/x-python",
   "name": "python",
   "nbconvert_exporter": "python",
   "pygments_lexer": "ipython3",
   "version": "3.8.7"
  }
 },
 "nbformat": 4,
 "nbformat_minor": 5
}
